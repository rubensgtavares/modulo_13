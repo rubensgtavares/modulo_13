{
 "cells": [
  {
   "cell_type": "markdown",
   "metadata": {
    "id": "d9jDtUbDOE1-"
   },
   "source": [
    "# **Tópicos**\n",
    "\n",
    "<ol type=\"1\">\n",
    "  <li>Agregação e Ordenação;</li>\n",
    "  <li>Combinação;</li>\n",
    "  <li>Técnicas Avançadas.</li>\n",
    "</ol>"
   ]
  },
  {
   "cell_type": "markdown",
   "metadata": {
    "id": "GABI6OW8OfQ2"
   },
   "source": [
    "# **Exercícios**"
   ]
  },
  {
   "cell_type": "markdown",
   "metadata": {
    "id": "45DbYPgFhuR7"
   },
   "source": [
    "Neste exercícios, vamos trabalhar com dados geográficos, demográficos e econômicos do Brasil. Vamos manipular e combinar dados de duas frentes distintas para poder responder perguntas de negócios."
   ]
  },
  {
   "cell_type": "markdown",
   "metadata": {
    "id": "GWgNoJN8DHyY"
   },
   "source": [
    "## 1\\. Data Wrangling"
   ]
  },
  {
   "cell_type": "markdown",
   "metadata": {
    "id": "E30KnCdKRdYl"
   },
   "source": [
    "### **1.1. Estados**"
   ]
  },
  {
   "cell_type": "markdown",
   "metadata": {
    "id": "w2q1apyNYHbu"
   },
   "source": [
    "O arquivo `estados-bruto.xml` contém informações sobre estados (nome, sigla e região). **Carregue-o na máquina virtual do Google Colab**. Um arquivo do tipo XML é similar a um arquivo do tipo HTML, exemplo do estado do Acre:"
   ]
  },
  {
   "cell_type": "markdown",
   "metadata": {
    "id": "GzjE2aEyYW5A"
   },
   "source": [
    "```xml\n",
    "<ESTADO>\n",
    "  <ID>1</ID>\n",
    "  <NOME>ACRE</NOME>\n",
    "  <IDCAPITAL>16</IDCAPITAL>\n",
    "  <SIGLA>AC</SIGLA>\n",
    "  <REGIAO>NORTE</REGIAO>\n",
    "</ESTADO>\n",
    "```"
   ]
  },
  {
   "cell_type": "code",
   "execution_count": 1,
   "metadata": {
    "colab": {
     "base_uri": "https://localhost:8080/"
    },
    "id": "vi4mBME3QAnZ",
    "outputId": "62e8e18f-9244-411a-94c3-783a1da5600f"
   },
   "outputs": [
    {
     "name": "stdout",
     "output_type": "stream",
     "text": [
      "Requirement already satisfied: lxml in c:\\users\\ruben\\anaconda3\\lib\\site-packages (4.8.0)\n"
     ]
    }
   ],
   "source": [
    "!pip install lxml"
   ]
  },
  {
   "cell_type": "code",
   "execution_count": 2,
   "metadata": {
    "id": "XLY3aNgoJ-qn"
   },
   "outputs": [],
   "source": [
    "import pandas as pd\n",
    "from bs4 import BeautifulSoup\n",
    "import csv"
   ]
  },
  {
   "cell_type": "code",
   "execution_count": 3,
   "metadata": {
    "id": "o_TjRaagOrXJ"
   },
   "outputs": [],
   "source": [
    "with open(file='Profissao Analista de dados M13 Exercicio original.xml', mode='r', encoding='utf8') as fp:\n",
    "  conteudo_xml = fp.read()"
   ]
  },
  {
   "cell_type": "code",
   "execution_count": 4,
   "metadata": {},
   "outputs": [],
   "source": [
    "import xml.parsers.expat"
   ]
  },
  {
   "cell_type": "code",
   "execution_count": 5,
   "metadata": {
    "colab": {
     "base_uri": "https://localhost:8080/"
    },
    "id": "Dc7FAmQ-Qqnn",
    "outputId": "2b0f26d3-f2b5-42b5-8302-f730965e79f3"
   },
   "outputs": [
    {
     "data": {
      "text/plain": [
       "<?xml version=\"1.0\" encoding=\"utf-8\"?>\n",
       "<ESTADOS>\n",
       "<ESTADO>\n",
       "<ID>1</ID>\n",
       "<NOME>ACRE</NOME>\n",
       "<IDCAPITAL>16</IDCAPITAL>\n",
       "<SIGLA>AC</SIGLA>\n",
       "<REGIAO>NORTE</REGIAO>\n",
       "</ESTADO>\n",
       "<ESTADO>\n",
       "<ID>2</ID>\n",
       "<NOME>ALAGOAS</NOME>\n",
       "<IDCAPITAL>68</IDCAPITAL>\n",
       "<SIGLA>AL</SIGLA>\n",
       "<REGIAO>NORDESTE</REGIAO>\n",
       "</ESTADO>\n",
       "<ESTADO>\n",
       "<ID>3</ID>\n",
       "<NOME>AMAPA</NOME>\n",
       "<IDCAPITAL>131</IDCAPITAL>\n",
       "<SIGLA>AP</SIGLA>\n",
       "<REGIAO>NORTE</REGIAO>\n",
       "</ESTADO>\n",
       "<ESTADO>\n",
       "<ID>4</ID>\n",
       "<NOME>AMAZONAS</NOME>\n",
       "<IDCAPITAL>178</IDCAPITAL>\n",
       "<SIGLA>AM</SIGLA>\n",
       "<REGIAO>NORTE</REGIAO>\n",
       "</ESTADO>\n",
       "<ESTADO>\n",
       "<ID>5</ID>\n",
       "<NOME>BAHIA</NOME>\n",
       "<IDCAPITAL>536</IDCAPITAL>\n",
       "<SIGLA>BA</SIGLA>\n",
       "<REGIAO>NORDESTE</REGIAO>\n",
       "</ESTADO>\n",
       "<ESTADO>\n",
       "<ID>6</ID>\n",
       "<NOME>CEARA</NOME>\n",
       "<IDCAPITAL>676</IDCAPITAL>\n",
       "<SIGLA>CE</SIGLA>\n",
       "<REGIAO>NORDESTE</REGIAO>\n",
       "</ESTADO>\n",
       "<ESTADO>\n",
       "<ID>7</ID>\n",
       "<NOME>DISTRITO FEDERAL</NOME>\n",
       "<IDCAPITAL>916</IDCAPITAL>\n",
       "<SIGLA>DF</SIGLA>\n",
       "<REGIAO>CENTRO-OESTE</REGIAO>\n",
       "</ESTADO>\n",
       "<ESTADO>\n",
       "<ID>8</ID>\n",
       "<NOME>ESPIRITO SANTO</NOME>\n",
       "<IDCAPITAL>879</IDCAPITAL>\n",
       "<SIGLA>ES</SIGLA>\n",
       "<REGIAO>SUDESTE</REGIAO>\n",
       "</ESTADO>\n",
       "<ESTADO>\n",
       "<ID>9</ID>\n",
       "<NOME>GOIAS</NOME>\n",
       "<IDCAPITAL>973</IDCAPITAL>\n",
       "<SIGLA>GO</SIGLA>\n",
       "<REGIAO>CENTRO-OESTE</REGIAO>\n",
       "</ESTADO>\n",
       "<ESTADO>\n",
       "<ID>10</ID>\n",
       "<NOME>MARANHAO</NOME>\n",
       "<IDCAPITAL>1309</IDCAPITAL>\n",
       "<SIGLA>MA</SIGLA>\n",
       "<REGIAO>NORDESTE</REGIAO>\n",
       "</ESTADO>\n",
       "<ESTADO>\n",
       "<ID>11</ID>\n",
       "<NOME>MATO GROSSO</NOME>\n",
       "<IDCAPITAL>1374</IDCAPITAL>\n",
       "<SIGLA>MT</SIGLA>\n",
       "<REGIAO>CENTRO-OESTE</REGIAO>\n",
       "</ESTADO>\n",
       "<ESTADO>\n",
       "<ID>12</ID>\n",
       "<NOME>MATO GROSSO DO SUL</NOME>\n",
       "<IDCAPITAL>1485</IDCAPITAL>\n",
       "<SIGLA>MS</SIGLA>\n",
       "<REGIAO>CENTRO-OESTE</REGIAO>\n",
       "</ESTADO>\n",
       "<ESTADO>\n",
       "<ID>13</ID>\n",
       "<NOME>PARA</NOME>\n",
       "<IDCAPITAL>1561</IDCAPITAL>\n",
       "<SIGLA>PA</SIGLA>\n",
       "<REGIAO>NORTE</REGIAO>\n",
       "</ESTADO>\n",
       "<ESTADO>\n",
       "<ID>14</ID>\n",
       "<NOME>PARAIBA</NOME>\n",
       "<IDCAPITAL>1779</IDCAPITAL>\n",
       "<SIGLA>PB</SIGLA>\n",
       "<REGIAO>NORDESTE</REGIAO>\n",
       "</ESTADO>\n",
       "<ESTADO>\n",
       "<ID>15</ID>\n",
       "<NOME>PARANA</NOME>\n",
       "<IDCAPITAL>2002</IDCAPITAL>\n",
       "<SIGLA>PR</SIGLA>\n",
       "<REGIAO>SUL</REGIAO>\n",
       "</ESTADO>\n",
       "<ESTADO>\n",
       "<ID>16</ID>\n",
       "<NOME>PERNAMBUCO</NOME>\n",
       "<IDCAPITAL>2439</IDCAPITAL>\n",
       "<SIGLA>PE</SIGLA>\n",
       "<REGIAO>NORDESTE</REGIAO>\n",
       "</ESTADO>\n",
       "<ESTADO>\n",
       "<ID>17</ID>\n",
       "<NOME>PIAUI</NOME>\n",
       "<IDCAPITAL>2704</IDCAPITAL>\n",
       "<SIGLA>PI</SIGLA>\n",
       "<REGIAO>NORDESTE</REGIAO>\n",
       "</ESTADO>\n",
       "<ESTADO>\n",
       "<ID>18</ID>\n",
       "<NOME>RIO DE JANEIRO</NOME>\n",
       "<IDCAPITAL>2779</IDCAPITAL>\n",
       "<SIGLA>RJ</SIGLA>\n",
       "<REGIAO>SUDESTE</REGIAO>\n",
       "</ESTADO>\n",
       "<ESTADO>\n",
       "<ID>19</ID>\n",
       "<NOME>RIO GRANDE DO NORTE</NOME>\n",
       "<IDCAPITAL>2890</IDCAPITAL>\n",
       "<SIGLA>RN</SIGLA>\n",
       "<REGIAO>NORDESTE</REGIAO>\n",
       "</ESTADO>\n",
       "<ESTADO>\n",
       "<ID>20</ID>\n",
       "<NOME>RIO GRANDE DO SUL</NOME>\n",
       "<IDCAPITAL>3273</IDCAPITAL>\n",
       "<SIGLA>RS</SIGLA>\n",
       "<REGIAO>SUL</REGIAO>\n",
       "</ESTADO>\n",
       "<ESTADO>\n",
       "<ID>21</ID>\n",
       "<NOME>RONDONIA</NOME>\n",
       "<IDCAPITAL>3473</IDCAPITAL>\n",
       "<SIGLA>RO</SIGLA>\n",
       "<REGIAO>NORTE</REGIAO>\n",
       "</ESTADO>\n",
       "<ESTADO>\n",
       "<ID>22</ID>\n",
       "<NOME>RORAIMA</NOME>\n",
       "<IDCAPITAL>3491</IDCAPITAL>\n",
       "<SIGLA>RR</SIGLA>\n",
       "<REGIAO>NORTE</REGIAO>\n",
       "</ESTADO>\n",
       "<ESTADO>\n",
       "<ID>23</ID>\n",
       "<NOME>SANTA CATARINA</NOME>\n",
       "<IDCAPITAL>3591</IDCAPITAL>\n",
       "<SIGLA>SC</SIGLA>\n",
       "<REGIAO>SUL</REGIAO>\n",
       "</ESTADO>\n",
       "<ESTADO>\n",
       "<ID>24</ID>\n",
       "<NOME>SAO PAULO</NOME>\n",
       "<IDCAPITAL>4361</IDCAPITAL>\n",
       "<SIGLA>SP</SIGLA>\n",
       "<REGIAO>SUDESTE</REGIAO>\n",
       "</ESTADO>\n",
       "<ESTADO>\n",
       "<ID>25</ID>\n",
       "<NOME>SERGIPE</NOME>\n",
       "<IDCAPITAL>4444</IDCAPITAL>\n",
       "<SIGLA>SE</SIGLA>\n",
       "<REGIAO>NORDESTE</REGIAO>\n",
       "</ESTADO>\n",
       "<ESTADO>\n",
       "<ID>26</ID>\n",
       "<NOME>TOCANTINS</NOME>\n",
       "<IDCAPITAL>4606</IDCAPITAL>\n",
       "<SIGLA>TO</SIGLA>\n",
       "<REGIAO>NORTE</REGIAO>\n",
       "</ESTADO>\n",
       "<ESTADO>\n",
       "<ID>27</ID>\n",
       "<NOME>MINAS GERAIS</NOME>\n",
       "<IDCAPITAL>4790</IDCAPITAL>\n",
       "<SIGLA>MG</SIGLA>\n",
       "<REGIAO>SUDESTE</REGIAO>\n",
       "</ESTADO>\n",
       "</ESTADOS>"
      ]
     },
     "execution_count": 5,
     "metadata": {},
     "output_type": "execute_result"
    }
   ],
   "source": [
    "fonte = BeautifulSoup(conteudo_xml, features='lxml-xml')\n",
    "fonte"
   ]
  },
  {
   "cell_type": "code",
   "execution_count": 6,
   "metadata": {
    "colab": {
     "base_uri": "https://localhost:8080/"
    },
    "id": "JWjbyA5RWcTH",
    "outputId": "02f0f54b-d58f-4a08-b846-625328c8a363"
   },
   "outputs": [
    {
     "name": "stdout",
     "output_type": "stream",
     "text": [
      "['ACRE', 'AC', 'NORTE']\n",
      "['ALAGOAS', 'AL', 'NORDESTE']\n",
      "['AMAPA', 'AP', 'NORTE']\n",
      "['AMAZONAS', 'AM', 'NORTE']\n",
      "['BAHIA', 'BA', 'NORDESTE']\n",
      "['CEARA', 'CE', 'NORDESTE']\n",
      "['DISTRITO FEDERAL', 'DF', 'CENTRO-OESTE']\n",
      "['ESPIRITO SANTO', 'ES', 'SUDESTE']\n",
      "['GOIAS', 'GO', 'CENTRO-OESTE']\n",
      "['MARANHAO', 'MA', 'NORDESTE']\n",
      "['MATO GROSSO', 'MT', 'CENTRO-OESTE']\n",
      "['MATO GROSSO DO SUL', 'MS', 'CENTRO-OESTE']\n",
      "['PARA', 'PA', 'NORTE']\n",
      "['PARAIBA', 'PB', 'NORDESTE']\n",
      "['PARANA', 'PR', 'SUL']\n",
      "['PERNAMBUCO', 'PE', 'NORDESTE']\n",
      "['PIAUI', 'PI', 'NORDESTE']\n",
      "['RIO DE JANEIRO', 'RJ', 'SUDESTE']\n",
      "['RIO GRANDE DO NORTE', 'RN', 'NORDESTE']\n",
      "['RIO GRANDE DO SUL', 'RS', 'SUL']\n",
      "['RONDONIA', 'RO', 'NORTE']\n",
      "['RORAIMA', 'RR', 'NORTE']\n",
      "['SANTA CATARINA', 'SC', 'SUL']\n",
      "['SAO PAULO', 'SP', 'SUDESTE']\n",
      "['SERGIPE', 'SE', 'NORDESTE']\n",
      "['TOCANTINS', 'TO', 'NORTE']\n",
      "['MINAS GERAIS', 'MG', 'SUDESTE']\n"
     ]
    }
   ],
   "source": [
    "itens = fonte.find_all('ESTADO')\n",
    "\n",
    "conteudo = []\n",
    "conteudo_processado = []\n",
    "\n",
    "for i in itens:\n",
    "  nome = i.find('NOME').text\n",
    "  sigla = i.find('SIGLA').text\n",
    "  regiao = i.find('REGIAO').text\n",
    "  conteudo.append(nome)\n",
    "  conteudo.append(sigla)\n",
    "  conteudo.append(regiao)\n",
    "\n",
    "for j in range(0,len(conteudo),3):\n",
    "  conteudo_processado.append(conteudo[j:j+3])\n",
    "\n",
    "for i in conteudo_processado:\n",
    "  print(i)\n",
    "\n"
   ]
  },
  {
   "cell_type": "code",
   "execution_count": 7,
   "metadata": {
    "id": "r8_LTaMaWw9V"
   },
   "outputs": [],
   "source": [
    "headers = ['estado','sigla','regiao']\n",
    "\n",
    "with open(file='estados-limpo.csv', mode='w',encoding='utf-8') as fp:\n",
    "  escritor = csv.writer(fp,delimiter=';')\n",
    "  escritor.writerow(headers)\n",
    "  escritor.writerows(conteudo_processado)"
   ]
  },
  {
   "cell_type": "markdown",
   "metadata": {
    "id": "Fq0xqYYSYq92"
   },
   "source": [
    "### **1.2. Cidades**"
   ]
  },
  {
   "cell_type": "markdown",
   "metadata": {
    "id": "eWRbjhOQYq93"
   },
   "source": [
    "O arquivo `cidades-bruto.csv` contém informações demográficas e socioeconomicas das cidades do Brasil. **Carregue-o na máquina virtual do Google Colab**. Utilize o pacote Python `pandas` para extrair os dados do arquivo `cidades-bruto.xml` providenciado. Seguindo as seguintes especificações:"
   ]
  },
  {
   "cell_type": "markdown",
   "metadata": {
    "id": "76zW8sMsbhEu"
   },
   "source": [
    "1. Apenas dados do censo de 2010;\n",
    "1. Apenas as colunas UF, Nome, PIB, Pop_est_2009 e PIB_percapita."
   ]
  },
  {
   "cell_type": "markdown",
   "metadata": {
    "id": "auiIxlw-blp8"
   },
   "source": [
    "Salve os dados extraidos no arquivo `cidades-limpo.csv` separado por `;`. Exemplo das três primeiras linhas mais o cabeçalho:\n",
    "\n",
    "```\n",
    "estado;cidade;populacao;pib;pib_percapita\n",
    "BAHIA;TREMEDAL;18433;57883.9921875;3140.23999023\n",
    "RIO GRANDE DO SUL;TURUÇU;4000;45723875;11430.96972656\n",
    "ESPIRITO SANTO;VITÓRIA;320156;19782628;61790.58984375\n",
    "```"
   ]
  },
  {
   "cell_type": "code",
   "execution_count": 9,
   "metadata": {
    "colab": {
     "base_uri": "https://localhost:8080/",
     "height": 304
    },
    "id": "7ZlDscI8YrK0",
    "outputId": "79f3f112-f653-4345-f18b-828717eaaa2a"
   },
   "outputs": [
    {
     "ename": "TypeError",
     "evalue": "read_csv() got an unexpected keyword argument 'on_bad_lines'",
     "output_type": "error",
     "traceback": [
      "\u001b[1;31m---------------------------------------------------------------------------\u001b[0m",
      "\u001b[1;31mTypeError\u001b[0m                                 Traceback (most recent call last)",
      "Input \u001b[1;32mIn [9]\u001b[0m, in \u001b[0;36m<cell line: 1>\u001b[1;34m()\u001b[0m\n\u001b[1;32m----> 1\u001b[0m fonte \u001b[38;5;241m=\u001b[39m \u001b[43mpd\u001b[49m\u001b[38;5;241;43m.\u001b[39;49m\u001b[43mread_csv\u001b[49m\u001b[43m(\u001b[49m\u001b[38;5;124;43m'\u001b[39;49m\u001b[38;5;124;43mProfissao Analista de dados M13 Exercicio cidades-bruto.csv\u001b[39;49m\u001b[38;5;124;43m'\u001b[39;49m\u001b[43m,\u001b[49m\u001b[43m \u001b[49m\u001b[43msep\u001b[49m\u001b[38;5;241;43m=\u001b[39;49m\u001b[38;5;124;43m'\u001b[39;49m\u001b[38;5;124;43m,\u001b[39;49m\u001b[38;5;124;43m'\u001b[39;49m\u001b[43m,\u001b[49m\u001b[43m \u001b[49m\u001b[43musecols\u001b[49m\u001b[38;5;241;43m=\u001b[39;49m\u001b[43m[\u001b[49m\u001b[38;5;124;43m'\u001b[39;49m\u001b[38;5;124;43mUF\u001b[39;49m\u001b[38;5;124;43m'\u001b[39;49m\u001b[43m,\u001b[49m\u001b[38;5;124;43m'\u001b[39;49m\u001b[38;5;124;43mnome\u001b[39;49m\u001b[38;5;124;43m'\u001b[39;49m\u001b[43m,\u001b[49m\u001b[38;5;124;43m'\u001b[39;49m\u001b[38;5;124;43mPIB\u001b[39;49m\u001b[38;5;124;43m'\u001b[39;49m\u001b[43m,\u001b[49m\u001b[38;5;124;43m'\u001b[39;49m\u001b[38;5;124;43mPop_est_2009\u001b[39;49m\u001b[38;5;124;43m'\u001b[39;49m\u001b[43m,\u001b[49m\u001b[38;5;124;43m'\u001b[39;49m\u001b[38;5;124;43mPIB_percapita\u001b[39;49m\u001b[38;5;124;43m'\u001b[39;49m\u001b[43m]\u001b[49m\u001b[43m \u001b[49m\u001b[43m,\u001b[49m\u001b[43mquotechar\u001b[49m\u001b[38;5;241;43m=\u001b[39;49m\u001b[38;5;124;43m'\u001b[39;49m\u001b[38;5;124;43m\"\u001b[39;49m\u001b[38;5;124;43m'\u001b[39;49m\u001b[43m,\u001b[49m\u001b[43m \u001b[49m\u001b[43mon_bad_lines\u001b[49m\u001b[38;5;241;43m=\u001b[39;49m\u001b[38;5;124;43m'\u001b[39;49m\u001b[38;5;124;43mwarn\u001b[39;49m\u001b[38;5;124;43m'\u001b[39;49m\u001b[43m)\u001b[49m\n\u001b[0;32m      2\u001b[0m fonte\n\u001b[0;32m      3\u001b[0m fonte\u001b[38;5;241m.\u001b[39mto_csv(\u001b[38;5;124m'\u001b[39m\u001b[38;5;124mcidades-limpo.csv\u001b[39m\u001b[38;5;124m'\u001b[39m,sep\u001b[38;5;241m=\u001b[39m\u001b[38;5;124m'\u001b[39m\u001b[38;5;124m;\u001b[39m\u001b[38;5;124m'\u001b[39m)\n",
      "\u001b[1;31mTypeError\u001b[0m: read_csv() got an unexpected keyword argument 'on_bad_lines'"
     ]
    }
   ],
   "source": [
    "fonte = pd.read_csv('Profissao Analista de dados M13 Exercicio cidades-bruto.csv', sep=',', usecols=['UF','nome','PIB','Pop_est_2009','PIB_percapita'] ,quotechar='\"', on_bad_lines=)\n",
    "fonte\n",
    "fonte.to_csv('cidades-limpo.csv',sep=';')"
   ]
  },
  {
   "cell_type": "code",
   "execution_count": null,
   "metadata": {},
   "outputs": [],
   "source": []
  },
  {
   "cell_type": "code",
   "execution_count": null,
   "metadata": {},
   "outputs": [],
   "source": []
  }
 ],
 "metadata": {
  "colab": {
   "provenance": []
  },
  "kernelspec": {
   "display_name": "Python 3 (ipykernel)",
   "language": "python",
   "name": "python3"
  },
  "language_info": {
   "codemirror_mode": {
    "name": "ipython",
    "version": 3
   },
   "file_extension": ".py",
   "mimetype": "text/x-python",
   "name": "python",
   "nbconvert_exporter": "python",
   "pygments_lexer": "ipython3",
   "version": "3.9.12"
  }
 },
 "nbformat": 4,
 "nbformat_minor": 1
}
